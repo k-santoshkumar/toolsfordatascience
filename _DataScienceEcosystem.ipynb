{
 "cells": [
  {
   "cell_type": "markdown",
   "id": "279131c9-86f9-4058-ad78-6c50600bc4b9",
   "metadata": {},
   "source": [
    "# Data Science Tools and Ecosystem\n"
   ]
  },
  {
   "cell_type": "markdown",
   "id": "ad7ccb67-c0cf-480d-a801-6aa1bc351e4d",
   "metadata": {},
   "source": [
    "### In this notebook, Data Science Tools and Ecosystem are summarized."
   ]
  },
  {
   "cell_type": "markdown",
   "id": "2c68a6de-7fe5-4bde-b028-2f06fe0cfbcc",
   "metadata": {},
   "source": [
    "##### Some of the popular languages that Data Scientists use are:\n",
    "<ol>\n",
    "    <li>Python</li>\n",
    "    <li>R</li>\n",
    "    <li>Scala</li>"
   ]
  },
  {
   "cell_type": "markdown",
   "id": "fda46b98-a67a-4b5a-8a5e-7d933f3d40ad",
   "metadata": {},
   "source": [
    "##### Some of the commonly used libraries used by Data Scientists include:\n",
    "<ol>\n",
    "    <li>Tensor flow</li>\n",
    "    <li>Numpy</li>\n",
    "    <li>Pandas</li>\n",
    "    <li>Matplotlib</li>\n",
    "    <li>Pytorch</li>\n",
    "    <li>Scikit</li>"
   ]
  },
  {
   "cell_type": "markdown",
   "id": "14a5ebcf-fb02-46aa-bbb4-f27132aad446",
   "metadata": {
    "tags": []
   },
   "source": [
    "<table style=\"width:20%\">\n",
    "<tr>\n",
    "<th> Data Science Tools </th>\n",
    "</tr>\n",
    "<tr><td>Apache Hadoop</td></tr>\n",
    "<tr><td>SAS (Statistical Analysis System)</td></tr>\n",
    "<tr><td>Apache Spark</td></tr>\n",
    "<tr><td>Data Robot</td></tr>\n",
    "<tr><td>Tableau</td></tr>\n",
    "</table>"
   ]
  },
  {
   "cell_type": "markdown",
   "id": "d5d6b1fb-02cb-4ace-96e0-d69ec7334ac7",
   "metadata": {},
   "source": [
    "### Below are a few examples of evaluating arithmetic expressions in Python"
   ]
  },
  {
   "cell_type": "code",
   "execution_count": 2,
   "id": "bba32523-5dcc-4ed4-8d38-ff9f419f415c",
   "metadata": {
    "tags": []
   },
   "outputs": [
    {
     "data": {
      "text/plain": [
       "17"
      ]
     },
     "execution_count": 2,
     "metadata": {},
     "output_type": "execute_result"
    }
   ],
   "source": [
    "#This a simple arithmetic expression to mutiply then add integers\n",
    "(3*4)+5"
   ]
  },
  {
   "cell_type": "code",
   "execution_count": 4,
   "id": "88b9f829-123a-4a95-93ab-bdf8965fa029",
   "metadata": {
    "tags": []
   },
   "outputs": [
    {
     "name": "stdout",
     "output_type": "stream",
     "text": [
      "200 minutes in hours is 3 hours\n"
     ]
    }
   ],
   "source": [
    "#This will convert 200 minutes to hours by diving by 60.\n",
    "print(\"200 minutes in hours is {} hours\".format(200//60))"
   ]
  },
  {
   "cell_type": "markdown",
   "id": "5170955c-1f06-4f94-a903-5678ed86e02c",
   "metadata": {},
   "source": [
    " __Objectives :__\n",
    "<ul>\n",
    "    <li>List popular languages for Data Science</li>\n",
    "    <li>List popular libraries for Data Science</li>\n",
    "    <li>Concept of REST API's</li>\n",
    "    <li>R Studio</li>\n",
    "    <li>Git Hub</li>\n",
    "    </ul>"
   ]
  },
  {
   "cell_type": "markdown",
   "id": "5e2b7488-e912-4652-ae54-14205c30a2b2",
   "metadata": {},
   "source": [
    "## Author\n",
    "K.Santosh Kumar"
   ]
  },
  {
   "cell_type": "code",
   "execution_count": null,
   "id": "ae008abf-d02c-443e-b6ea-0e280851ab07",
   "metadata": {},
   "outputs": [],
   "source": []
  }
 ],
 "metadata": {
  "kernelspec": {
   "display_name": "Python",
   "language": "python",
   "name": "conda-env-python-py"
  },
  "language_info": {
   "codemirror_mode": {
    "name": "ipython",
    "version": 3
   },
   "file_extension": ".py",
   "mimetype": "text/x-python",
   "name": "python",
   "nbconvert_exporter": "python",
   "pygments_lexer": "ipython3",
   "version": "3.7.12"
  }
 },
 "nbformat": 4,
 "nbformat_minor": 5
}
